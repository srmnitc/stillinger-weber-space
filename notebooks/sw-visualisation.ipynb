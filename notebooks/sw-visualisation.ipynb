{
 "cells": [
  {
   "cell_type": "markdown",
   "metadata": {},
   "source": [
    "# SW Visualisation"
   ]
  },
  {
   "cell_type": "markdown",
   "metadata": {},
   "source": [
    "SW formulation  \n",
    "\n",
    "### $E = \\sum_i\\sum_{j>i} \\phi_2(r_{ij}) + \\sum_i\\sum_{j\\neq i}\\sum_{k> j} \\phi_3(r_{ij}, r_{ik}, \\theta_{ijk})$"
   ]
  },
  {
   "cell_type": "code",
   "execution_count": null,
   "metadata": {},
   "outputs": [],
   "source": [
    "from stillingerweber.visualisation import create_sw_widgets\n",
    "import warnings\n",
    "warnings.filterwarnings('ignore')\n",
    "%matplotlib widget"
   ]
  },
  {
   "cell_type": "markdown",
   "metadata": {},
   "source": [
    "## Two body   "
   ]
  },
  {
   "cell_type": "markdown",
   "metadata": {},
   "source": [
    "$\\phi_2(r_{ij}) = A_{ij}\\bigg[ B_{ij} (\\frac{\\sigma_{ij}}{r_{ij}})^{p_{ij}} - (\\frac{\\sigma_{ij}}{r_{ij}})^{q_{ij}}\\bigg] \\exp{\\bigg( \\frac{\\sigma_{ij}}{r_{ij} - a_{ij} \\sigma_{ij}} \\bigg)}$"
   ]
  },
  {
   "cell_type": "code",
   "execution_count": 56,
   "metadata": {},
   "outputs": [],
   "source": [
    "create_sw_widgets(threebody=False)"
   ]
  },
  {
   "cell_type": "markdown",
   "metadata": {},
   "source": [
    "## Three body"
   ]
  },
  {
   "cell_type": "markdown",
   "metadata": {},
   "source": [
    "$\\phi_3(r_{ij}, r_{ik}, \\theta_{ijk}) = \\lambda_{ijk} \\epsilon_{ijk} [\\cos \\theta_{ijk} - \\cos \\theta_{0ijk}]^2 \\exp{\\bigg( \\frac{\\sigma_{ij}}{r_{ij} - a_{ij} \\sigma_{ij}} \\bigg)} \\exp{\\bigg( \\frac{\\sigma_{ij}}{r_{ij} - a_{ij} \\sigma_{ij}} \\bigg)}$"
   ]
  },
  {
   "cell_type": "code",
   "execution_count": 60,
   "metadata": {},
   "outputs": [
    {
     "data": {
      "application/vnd.jupyter.widget-view+json": {
       "model_id": "3aa9a93818d041a2b413d3e966591903",
       "version_major": 2,
       "version_minor": 0
      },
      "text/plain": [
       "GridBox(children=(FloatSlider(value=2.183, continuous_update=False, description='epsilon', max=5.0, min=0.1, r…"
      ]
     },
     "metadata": {},
     "output_type": "display_data"
    },
    {
     "data": {
      "application/vnd.jupyter.widget-view+json": {
       "model_id": "2cfbd47580344b12896e34c59fd1b069",
       "version_major": 2,
       "version_minor": 0
      },
      "text/plain": [
       "Output()"
      ]
     },
     "metadata": {},
     "output_type": "display_data"
    }
   ],
   "source": [
    "create_sw_widgets(threebody=True)"
   ]
  }
 ],
 "metadata": {
  "kernelspec": {
   "display_name": "base",
   "language": "python",
   "name": "base"
  },
  "language_info": {
   "codemirror_mode": {
    "name": "ipython",
    "version": 3
   },
   "file_extension": ".py",
   "mimetype": "text/x-python",
   "name": "python",
   "nbconvert_exporter": "python",
   "pygments_lexer": "ipython3",
   "version": "3.7.4"
  }
 },
 "nbformat": 4,
 "nbformat_minor": 4
}
