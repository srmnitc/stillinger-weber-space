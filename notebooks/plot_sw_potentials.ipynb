{
 "cells": [
  {
   "cell_type": "markdown",
   "metadata": {},
   "source": [
    "## Plot of the SW potentials\n",
    "\n",
    "As it was shown in the development of `potential A` and `potential B`, SW potential can be tweaked to produce either fcc or diamond as the lowest energy structure. In this notebook, I will explore why either structure is stabilized and which SW parameters contribute to it."
   ]
  },
  {
   "cell_type": "code",
   "execution_count": 1,
   "metadata": {},
   "outputs": [],
   "source": [
    "import matplotlib.pyplot as plt\n",
    "import numpy as np\n",
    "from stillingerweber.sw import Sw\n",
    "import pyscal.core as pc\n",
    "import pyscal.crystal_structures as pcs"
   ]
  },
  {
   "cell_type": "markdown",
   "metadata": {},
   "source": [
    "`Potential A` which favors diamond structure would be referred to as `Ad`"
   ]
  },
  {
   "cell_type": "code",
   "execution_count": 2,
   "metadata": {},
   "outputs": [],
   "source": [
    "Ad = Sw(\"Ad\", epsilon=2.1683, sigma=2.0951, a=1.80, lmbda=32.5,\n",
    "       gamma=1.20, costheta0=-0.3333, A=7.9170, B=0.76728,\n",
    "       p=4, q=0)"
   ]
  },
  {
   "cell_type": "markdown",
   "metadata": {},
   "source": [
    "`Potential B` which favors fcc structure would be referred to as `Af`"
   ]
  },
  {
   "cell_type": "code",
   "execution_count": 3,
   "metadata": {},
   "outputs": [],
   "source": [
    "Af = Sw(\"Af\", epsilon=1.393, sigma=2.3677, a=1.53, lmbda=32.5,\n",
    "       gamma=1.20, costheta0=-0.3333, A=7.9170, B=0.76728,\n",
    "       p=4, q=0)"
   ]
  },
  {
   "cell_type": "markdown",
   "metadata": {},
   "source": [
    "Cutoff for each of the potential is given by $\\sigma * a$"
   ]
  },
  {
   "cell_type": "code",
   "execution_count": 4,
   "metadata": {},
   "outputs": [],
   "source": [
    "Ad_rij = np.linspace(1.0, Ad.sigma*Ad.a, 1000)\n",
    "Af_rij = np.linspace(1.0, Af.sigma*Af.a, 1000)"
   ]
  },
  {
   "cell_type": "code",
   "execution_count": 44,
   "metadata": {},
   "outputs": [
    {
     "data": {
      "text/plain": [
       "3.77118"
      ]
     },
     "execution_count": 44,
     "metadata": {},
     "output_type": "execute_result"
    }
   ],
   "source": [
    "max(Ad_rij)"
   ]
  },
  {
   "cell_type": "code",
   "execution_count": 45,
   "metadata": {},
   "outputs": [
    {
     "data": {
      "text/plain": [
       "3.6225810000000003"
      ]
     },
     "execution_count": 45,
     "metadata": {},
     "output_type": "execute_result"
    }
   ],
   "source": [
    "max(Af_rij)"
   ]
  },
  {
   "cell_type": "markdown",
   "metadata": {},
   "source": [
    "### Potential A\n",
    "\n",
    "Calculating the 2 body term -  \n",
    "$E = \\sum_i\\sum_{j>i} \\phi_2(r_{ij}) + \\sum_i\\sum_{j\\neq i}\\sum_{k> j} \\phi_3(r_{ij}, r_{ik}, \\theta_{ijk})$"
   ]
  },
  {
   "cell_type": "markdown",
   "metadata": {},
   "source": [
    "The lattice constants from calculation of E-V curve"
   ]
  },
  {
   "cell_type": "code",
   "execution_count": 5,
   "metadata": {},
   "outputs": [],
   "source": [
    "Ad_fcc_alat = 4.253220814538102\n",
    "Ad_dia_alat = 5.63104614813484"
   ]
  },
  {
   "cell_type": "markdown",
   "metadata": {},
   "source": [
    "and the minimum energies.."
   ]
  },
  {
   "cell_type": "code",
   "execution_count": 6,
   "metadata": {},
   "outputs": [],
   "source": [
    "Ad_fcc_e_act = -3.323635546666218\n",
    "Ad_dia_e_act = -4.1481614681153065"
   ]
  },
  {
   "cell_type": "code",
   "execution_count": 7,
   "metadata": {},
   "outputs": [
    {
     "data": {
      "text/plain": [
       "-0.8245259214490885"
      ]
     },
     "execution_count": 7,
     "metadata": {},
     "output_type": "execute_result"
    }
   ],
   "source": [
    "Ad_dia_e_act - Ad_fcc_e_act"
   ]
  },
  {
   "cell_type": "markdown",
   "metadata": {},
   "source": [
    "Now the two body term,"
   ]
  },
  {
   "cell_type": "code",
   "execution_count": 9,
   "metadata": {},
   "outputs": [],
   "source": [
    "Ad_phi2 = Ad.phi2(Ad_rij)"
   ]
  },
  {
   "cell_type": "markdown",
   "metadata": {},
   "source": [
    "In order to understand the contribution from 2 body terms - we have to find where the neighbors lie-"
   ]
  },
  {
   "cell_type": "code",
   "execution_count": 10,
   "metadata": {},
   "outputs": [],
   "source": [
    "Ad_fcc_nn = (np.sqrt(2)/2)*Ad_fcc_alat\n",
    "Ad_dia_nn = (np.sqrt(3)/4)*Ad_dia_alat"
   ]
  },
  {
   "cell_type": "markdown",
   "metadata": {},
   "source": [
    "Plot and see where they lie.."
   ]
  },
  {
   "cell_type": "code",
   "execution_count": 11,
   "metadata": {},
   "outputs": [
    {
     "data": {
      "text/plain": [
       "(1.5, 3.5)"
      ]
     },
     "execution_count": 11,
     "metadata": {},
     "output_type": "execute_result"
    },
    {
     "data": {
      "image/png": "[encoded data removed]",
      "text/plain": [
       "<Figure size 432x288 with 1 Axes>"
      ]
     },
     "metadata": {
      "needs_background": "light"
     },
     "output_type": "display_data"
    }
   ],
   "source": [
    "plt.plot(Ad_rij, Ad_phi2, label=\"pot A\", color='#388E3C')\n",
    "plt.axvline(Ad_fcc_nn, label=\"pot A fcc nn\", color='#FF9800')\n",
    "plt.axvline(Ad_dia_nn, label=\"pot A dia nn\", color='#455A64')\n",
    "plt.legend()\n",
    "plt.ylim(-3,2)\n",
    "plt.xlim(1.5,3.5)"
   ]
  },
  {
   "cell_type": "markdown",
   "metadata": {},
   "source": [
    "Energy diff between fcc and dia from two body term, considering 4 neighbors for diamond and 12 for fcc"
   ]
  },
  {
   "cell_type": "code",
   "execution_count": 12,
   "metadata": {},
   "outputs": [
    {
     "data": {
      "text/plain": [
       "1.2829226745089048"
      ]
     },
     "execution_count": 12,
     "metadata": {},
     "output_type": "execute_result"
    }
   ],
   "source": [
    "Ad_2body_ediff = 0.5*4*Ad.phi2(Ad_dia_nn) - 0.5*12*Ad.phi2(Ad_fcc_nn)\n",
    "Ad_2body_ediff"
   ]
  },
  {
   "cell_type": "code",
   "execution_count": 19,
   "metadata": {},
   "outputs": [
    {
     "data": {
      "text/plain": [
       "-4.147676382493027"
      ]
     },
     "execution_count": 19,
     "metadata": {},
     "output_type": "execute_result"
    }
   ],
   "source": [
    "0.5*4*Ad.phi2(Ad_dia_nn)"
   ]
  },
  {
   "cell_type": "markdown",
   "metadata": {},
   "source": [
    "This actually means fcc is more stable! The stability of diamond structure must come from the three body term. The three body term contribution is given by,\n",
    "\n",
    "$\\phi_3(r_{ij}, r_{ik}, \\theta_{ijk}) = \\lambda_{ijk} \\epsilon_{ijk} [\\cos \\theta_{ijk} - \\cos \\theta_{0ijk}]^2 \\exp{\\bigg( \\frac{\\sigma_{ij}}{r_{ij} - a_{ij} \\sigma_{ij}} \\bigg)} \\exp{\\bigg( \\frac{\\sigma_{ij}}{r_{ij} - a_{ij} \\sigma_{ij}} \\bigg)}$"
   ]
  },
  {
   "cell_type": "markdown",
   "metadata": {},
   "source": [
    "Since the $\\cos \\theta_0$ term is -0.33, $\\phi_3$ for diamond is 0. However, for fcc this contribution is not zero."
   ]
  },
  {
   "cell_type": "markdown",
   "metadata": {},
   "source": [
    "A perfect fcc has 66 angles around it formed by 12 neighbors ($^{12}C_2$) -   \n",
    "- $60^0$ x 24\n",
    "- $90^0$ x 12\n",
    "- $120^0$ x 24\n",
    "- $180^0$ x 6"
   ]
  },
  {
   "cell_type": "code",
   "execution_count": 13,
   "metadata": {},
   "outputs": [
    {
     "data": {
      "text/plain": [
       "(0.5000000000000001, 6.123233995736766e-17, -0.4999999999999998, -1.0)"
      ]
     },
     "execution_count": 13,
     "metadata": {},
     "output_type": "execute_result"
    }
   ],
   "source": [
    "np.cos(60*np.pi/180), np.cos(90*np.pi/180), np.cos(120*np.pi/180), np.cos(180*np.pi/180)"
   ]
  },
  {
   "cell_type": "markdown",
   "metadata": {},
   "source": [
    "All of the angles would be penalised! A plot of three body terms-"
   ]
  },
  {
   "cell_type": "code",
   "execution_count": 15,
   "metadata": {},
   "outputs": [
    {
     "data": {
      "text/plain": [
       "Text(0.5, 1.0, '$\\\\phi_3$ for $\\\\cos\\\\theta=0.5$')"
      ]
     },
     "execution_count": 15,
     "metadata": {},
     "output_type": "execute_result"
    },
    {
     "data": {
      "image/png": "[encoded data removed]",
      "text/plain": [
       "<Figure size 432x288 with 2 Axes>"
      ]
     },
     "metadata": {
      "needs_background": "light"
     },
     "output_type": "display_data"
    }
   ],
   "source": [
    "xx, yy = np.meshgrid(Ad_rij, Ad_rij)\n",
    "Ad_phi3_fcc = Ad.phi3(xx, yy, 0.50)\n",
    "plt.contourf(xx, yy, Ad_phi3_fcc)\n",
    "plt.colorbar()\n",
    "plt.title(\"$\\phi_3$ for $\\cos\\\\theta=0.5$\") "
   ]
  },
  {
   "cell_type": "markdown",
   "metadata": {},
   "source": [
    "Evaluation of each three body contribution"
   ]
  },
  {
   "cell_type": "code",
   "execution_count": 16,
   "metadata": {},
   "outputs": [],
   "source": [
    "d60c = Ad.phi3(Ad_fcc_nn, Ad_fcc_nn, 0.5)\n",
    "d90c = Ad.phi3(Ad_fcc_nn, Ad_fcc_nn, 0.0)\n",
    "d120c = Ad.phi3(Ad_fcc_nn, Ad_fcc_nn, -0.5)\n",
    "d180c = Ad.phi3(Ad_fcc_nn, Ad_fcc_nn, -1)"
   ]
  },
  {
   "cell_type": "markdown",
   "metadata": {},
   "source": [
    "Summing up the contribution,"
   ]
  },
  {
   "cell_type": "code",
   "execution_count": 18,
   "metadata": {},
   "outputs": [
    {
     "data": {
      "text/plain": [
       "-1.3426218705105357"
      ]
     },
     "execution_count": 18,
     "metadata": {},
     "output_type": "execute_result"
    }
   ],
   "source": [
    "Ad_3body_ediff = 0-(d60c*24 + d90c*12 + d120c*24 + d180c*6)\n",
    "Ad_3body_ediff"
   ]
  },
  {
   "cell_type": "markdown",
   "metadata": {},
   "source": [
    "The total of 3 body is not as expected - I have to fix it -> but two body is correct - the stabilisation comes from three body"
   ]
  },
  {
   "cell_type": "markdown",
   "metadata": {},
   "source": [
    "At least for this potential - the stabilisation of dia comes from the three body term - That is $\\lambda$ would directly influence how much more stable diamond is"
   ]
  },
  {
   "cell_type": "code",
   "execution_count": 20,
   "metadata": {},
   "outputs": [],
   "source": [
    "Af_fcc_alat = 4.008914377967472\n",
    "Af_dia_alat = 5.885578248067709"
   ]
  },
  {
   "cell_type": "code",
   "execution_count": 21,
   "metadata": {},
   "outputs": [],
   "source": [
    "Af_fcc_nn = (np.sqrt(2)/2)*Af_fcc_alat\n",
    "Af_dia_nn = (np.sqrt(3)/4)*Af_dia_alat"
   ]
  },
  {
   "cell_type": "code",
   "execution_count": 22,
   "metadata": {},
   "outputs": [],
   "source": [
    "Af_fcc_e_actual = -1.3133698468550736\n",
    "Af_dia_e_actual = -1.0187360228169908"
   ]
  },
  {
   "cell_type": "code",
   "execution_count": 23,
   "metadata": {},
   "outputs": [
    {
     "data": {
      "text/plain": [
       "0.2946338240380828"
      ]
     },
     "execution_count": 23,
     "metadata": {},
     "output_type": "execute_result"
    }
   ],
   "source": [
    "Af_dia_e_actual -Af_fcc_e_actual"
   ]
  },
  {
   "cell_type": "code",
   "execution_count": 35,
   "metadata": {},
   "outputs": [
    {
     "name": "stderr",
     "output_type": "stream",
     "text": [
      "/home/sarath/miniconda3/envs/lammps/lib/python3.7/site-packages/stillingerweber-0.0.1-py3.7.egg/stillingerweber/sw.py:52: RuntimeWarning: divide by zero encountered in true_divide\n"
     ]
    },
    {
     "data": {
      "text/plain": [
       "(1.5, 3.5)"
      ]
     },
     "execution_count": 35,
     "metadata": {},
     "output_type": "execute_result"
    },
    {
     "data": {
      "image/png": "[encoded data removed]",
      "text/plain": [
       "<Figure size 432x288 with 1 Axes>"
      ]
     },
     "metadata": {
      "needs_background": "light"
     },
     "output_type": "display_data"
    }
   ],
   "source": [
    "plt.plot(Af_rij, Af.phi2(Af_rij), label=\"pot B\", color='#388E3C')\n",
    "plt.axvline(Af_fcc_nn, label=\"pot B fcc nn\", color='#FF9800')\n",
    "plt.axvline(Af_dia_nn, label=\"pot B dia nn\", color='#455A64')\n",
    "\n",
    "plt.legend()\n",
    "plt.ylim(-1,2)\n",
    "plt.xlim(1.5,3.5)"
   ]
  },
  {
   "cell_type": "code",
   "execution_count": 26,
   "metadata": {},
   "outputs": [
    {
     "data": {
      "text/plain": [
       "1.0110294652445617"
      ]
     },
     "execution_count": 26,
     "metadata": {},
     "output_type": "execute_result"
    }
   ],
   "source": [
    "Af_2body_ediff = 0.5*4*Af.phi2(Af_dia_nn) - 0.5*12*Af.phi2(Af_fcc_nn)\n",
    "Af_2body_ediff"
   ]
  },
  {
   "cell_type": "markdown",
   "metadata": {},
   "source": [
    "Fcc is more stable here due to the compact structure"
   ]
  },
  {
   "cell_type": "code",
   "execution_count": 27,
   "metadata": {},
   "outputs": [],
   "source": [
    "f60c = Af.phi3(Af_fcc_nn, Af_fcc_nn, 0.5)\n",
    "f90c = Af.phi3(Af_fcc_nn, Af_fcc_nn, 0.0)\n",
    "f120c = Af.phi3(Af_fcc_nn, Af_fcc_nn, -0.5)\n",
    "f180c = Af.phi3(Af_fcc_nn, Af_fcc_nn, -1)"
   ]
  },
  {
   "cell_type": "markdown",
   "metadata": {},
   "source": [
    "Summing up the contribution,"
   ]
  },
  {
   "cell_type": "code",
   "execution_count": 28,
   "metadata": {},
   "outputs": [
    {
     "data": {
      "text/plain": [
       "0.4600432018899963"
      ]
     },
     "execution_count": 28,
     "metadata": {},
     "output_type": "execute_result"
    }
   ],
   "source": [
    "Af_3body_ediff = (f60c*24 + f90c*12 + f120c*24 + f180c*6)\n",
    "Af_3body_ediff"
   ]
  },
  {
   "cell_type": "code",
   "execution_count": 31,
   "metadata": {},
   "outputs": [
    {
     "data": {
      "text/plain": [
       "0.5509862633545655"
      ]
     },
     "execution_count": 31,
     "metadata": {},
     "output_type": "execute_result"
    }
   ],
   "source": [
    "(Af_2body_ediff - Af_3body_ediff)"
   ]
  },
  {
   "cell_type": "markdown",
   "metadata": {},
   "source": [
    "Once again, the three body numbers are not correct - We have to see why."
   ]
  },
  {
   "cell_type": "markdown",
   "metadata": {},
   "source": [
    "Comparison of the two potentials"
   ]
  },
  {
   "cell_type": "code",
   "execution_count": 43,
   "metadata": {},
   "outputs": [
    {
     "name": "stderr",
     "output_type": "stream",
     "text": [
      "/home/sarath/miniconda3/envs/lammps/lib/python3.7/site-packages/stillingerweber-0.0.1-py3.7.egg/stillingerweber/sw.py:52: RuntimeWarning: divide by zero encountered in true_divide\n",
      "/home/sarath/miniconda3/envs/lammps/lib/python3.7/site-packages/stillingerweber-0.0.1-py3.7.egg/stillingerweber/sw.py:52: RuntimeWarning: divide by zero encountered in true_divide\n"
     ]
    },
    {
     "data": {
      "text/plain": [
       "(1.5, 3.5)"
      ]
     },
     "execution_count": 43,
     "metadata": {},
     "output_type": "execute_result"
    },
    {
     "data": {
      "image/png": "[encoded data removed]",
      "text/plain": [
       "<Figure size 432x288 with 1 Axes>"
      ]
     },
     "metadata": {
      "needs_background": "light"
     },
     "output_type": "display_data"
    }
   ],
   "source": [
    "plt.plot(Ad_rij, Ad.phi2(Ad_rij), linestyle='dashed', label=\"pot A\", color='#388E3C')\n",
    "plt.plot(Af_rij, Af.phi2(Af_rij), linestyle='dotted', label=\"pot B\", color='#388E3C')\n",
    "plt.axvline(Af_fcc_nn, linestyle='dotted', label=\"pot B fcc nn\", color='#FF9800')\n",
    "plt.axvline(Af_dia_nn, linestyle='dotted', label=\"pot B dia nn\", color='#455A64')\n",
    "plt.axvline(Ad_fcc_nn, linestyle='dashed', label=\"pot A fcc nn\", color='#FF9800')\n",
    "plt.axvline(Ad_dia_nn, linestyle='dashed', label=\"pot A dia nn\", color='#455A64')\n",
    "plt.legend()\n",
    "plt.ylim(-3,2)\n",
    "plt.xlim(1.5,3.5)"
   ]
  },
  {
   "cell_type": "markdown",
   "metadata": {},
   "source": [
    "Strategy to switch from Diamond to FCC -> Reduce the depth of well with epsilon, so that ediff between diamond and fcc is less "
   ]
  },
  {
   "cell_type": "markdown",
   "metadata": {},
   "source": [
    "## Things to do-\n",
    "\n",
    "- check three body penalty for bcc\n",
    "- change $\\sigma$ and it's effect on the equilibrium volume\n",
    "- Choose 6 different potentials:\n",
    "    - $\\lambda$ fixed, change $\\epsilon$ and calculate $T_m$\n",
    "    - $\\epsilon$ fixed, change $\\lambda$ and calculate $T_m$"
   ]
  }
 ],
 "metadata": {
  "kernelspec": {
   "display_name": "lammps",
   "language": "python",
   "name": "lammps"
  },
  "language_info": {
   "codemirror_mode": {
    "name": "ipython",
    "version": 3
   },
   "file_extension": ".py",
   "mimetype": "text/x-python",
   "name": "python",
   "nbconvert_exporter": "python",
   "pygments_lexer": "ipython3",
   "version": "3.7.6"
  }
 },
 "nbformat": 4,
 "nbformat_minor": 4
}
