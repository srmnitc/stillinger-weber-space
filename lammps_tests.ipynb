{
 "cells": [
  {
   "cell_type": "code",
   "execution_count": 1,
   "metadata": {},
   "outputs": [],
   "source": [
    "from lammps import PyLammps"
   ]
  },
  {
   "cell_type": "code",
   "execution_count": 58,
   "metadata": {},
   "outputs": [],
   "source": [
    "import numpy as np\n",
    "from scipy.optimize import leastsq\n",
    "from tqdm import tqdm"
   ]
  },
  {
   "cell_type": "markdown",
   "metadata": {},
   "source": [
    "echo log\n",
    "units\t\tmetal\n",
    "atom_style \tatomic\n",
    "boundary\tp p p #sss"
   ]
  },
  {
   "cell_type": "code",
   "execution_count": 46,
   "metadata": {},
   "outputs": [],
   "source": [
    "def initialize():\n",
    "    L = PyLammps()\n",
    "    L.command(\"echo log\")\n",
    "    L.command(\"units metal\")\n",
    "    L.command(\"atom_style atomic\")\n",
    "    L.command(\"boundary p p p\")\n",
    "    return L"
   ]
  },
  {
   "cell_type": "code",
   "execution_count": 44,
   "metadata": {},
   "outputs": [],
   "source": [
    "def set_lattice(L, structure, alat, reps):\n",
    "    L.lattice(\"%s %f orient x 1 0 0 orient y 0 1 0 orient z 0 0 1\"%(structure, alat))\n",
    "    L.region(\"box block 0 %d 0 %d 0 %d\"%(reps[0], reps[1], reps[2]))\n",
    "    L.create_box(\"1 box\")\n",
    "    L.create_atoms(\"1 box\")\n",
    "    return L"
   ]
  },
  {
   "cell_type": "code",
   "execution_count": 45,
   "metadata": {},
   "outputs": [],
   "source": [
    "def set_potential(L, potfile, mass):\n",
    "    L.pair_style(\"sw\")\n",
    "    L.pair_coeff(\"* * %s Si\"%potfile)\n",
    "    L.neighbor(\"1.0 bin\")\n",
    "    L.neigh_modify(\"every 1 delay 1 check yes\")\n",
    "    L.mass(\"* %f\"%mass)\n",
    "    return L"
   ]
  },
  {
   "cell_type": "code",
   "execution_count": 59,
   "metadata": {},
   "outputs": [],
   "source": [
    "def routine_energy(simdict, return_volume = False):\n",
    "    L = initialize()\n",
    "    L = set_lattice(L, simdict[\"structure\"], simdict[\"alat\"], simdict[\"reps\"])\n",
    "    L = set_potential(L, simdict[\"potfile\"], simdict[\"mass\"])\n",
    "    L.run(1)\n",
    "    pe = L.eval('pe')/L.system.natoms\n",
    "    if return_volume:\n",
    "        vol = L.eval('vol')/L.system.natoms\n",
    "        return pe, vol\n",
    "    else:\n",
    "        return pe"
   ]
  },
  {
   "cell_type": "code",
   "execution_count": 53,
   "metadata": {},
   "outputs": [],
   "source": [
    "def routine_lattice_constant(simdict):\n",
    "    L = initialize()\n",
    "    L = set_lattice(L, simdict[\"structure\"], simdict[\"alat\"], simdict[\"reps\"])\n",
    "    L = set_potential(L, simdict[\"potfile\"], simdict[\"mass\"])\n",
    "    L.minimize(\" 1.0e-8 1.0e-8 100000000 100000000\")\n",
    "    vol = L.eval('vol')/(simdict[\"reps\"][0]*simdict[\"reps\"][1]*simdict[\"reps\"][2])\n",
    "    lat = vol**(1/3)\n",
    "    return lat"
   ]
  },
  {
   "cell_type": "code",
   "execution_count": 79,
   "metadata": {},
   "outputs": [],
   "source": [
    "simdict = {\"structure\": \"diamond\", \"alat\": 5.43, \"reps\":[2,2,2], \"potfile\": \"test.sw\", \"mass\":35.46}"
   ]
  },
  {
   "cell_type": "code",
   "execution_count": 51,
   "metadata": {},
   "outputs": [
    {
     "name": "stdout",
     "output_type": "stream",
     "text": [
      "LAMMPS output is captured by PyLammps wrapper\n"
     ]
    },
    {
     "data": {
      "text/plain": [
       "-4.33659613839015"
      ]
     },
     "execution_count": 51,
     "metadata": {},
     "output_type": "execute_result"
    }
   ],
   "source": [
    "routine_energy(simdict)"
   ]
  },
  {
   "cell_type": "code",
   "execution_count": 54,
   "metadata": {},
   "outputs": [
    {
     "name": "stdout",
     "output_type": "stream",
     "text": [
      "LAMMPS output is captured by PyLammps wrapper\n"
     ]
    },
    {
     "data": {
      "text/plain": [
       "5.429999999999999"
      ]
     },
     "execution_count": 54,
     "metadata": {},
     "output_type": "execute_result"
    }
   ],
   "source": [
    "routine_lattice_constant(simdict)"
   ]
  },
  {
   "cell_type": "code",
   "execution_count": 55,
   "metadata": {},
   "outputs": [],
   "source": [
    "def birch_murnaghan(vol, ene):\n",
    "    a, b, c = np.polyfit(vol, ene, 2)\n",
    "    V0 = -b/(2*a)\n",
    "    E0 = a*V0**2 + b*V0 + c\n",
    "    B0 = 2*a*V0\n",
    "    Bp = 4.0\n",
    "    eta = (vol/V0)**(1.0/3.0)\n",
    "    E = E0 + 9.0*B0*V0/16.0 * (eta**2-1.0)**2 * (6.0 + Bp*(eta**2-1.0) - 4.0*eta**2)\n",
    "    return E"
   ]
  },
  {
   "cell_type": "code",
   "execution_count": 80,
   "metadata": {},
   "outputs": [],
   "source": [
    "def routine_ev_curve(msimdict, variation = 0.01, points=100):\n",
    "    simdict = msimdict.copy()\n",
    "    alat = simdict[\"alat\"]\n",
    "    alats = np.linspace((1-variation)*alat, (1+variation)*alat, points)\n",
    "    energies = []\n",
    "    volumes = []\n",
    "    for c, val in tqdm(enumerate(alats)):\n",
    "        simdict[\"alat\"] = val\n",
    "        e, v = routine_energy(simdict, return_volume= True)\n",
    "        energies.append(e)\n",
    "        volumes.append(v)\n",
    "    #now fit\n",
    "    efit = birch_murnaghan(volumes, energies)\n",
    "    return volumes, energies, efit"
   ]
  },
  {
   "cell_type": "code",
   "execution_count": 83,
   "metadata": {
    "collapsed": true,
    "jupyter": {
     "outputs_hidden": true
    }
   },
   "outputs": [
    {
     "name": "stderr",
     "output_type": "stream",
     "text": [
      "23it [00:00, 225.33it/s]"
     ]
    },
    {
     "name": "stdout",
     "output_type": "stream",
     "text": [
      "LAMMPS output is captured by PyLammps wrapper\n",
      "LAMMPS output is captured by PyLammps wrapper\n",
      "LAMMPS output is captured by PyLammps wrapper\n",
      "LAMMPS output is captured by PyLammps wrapper\n",
      "LAMMPS output is captured by PyLammps wrapper\n",
      "LAMMPS output is captured by PyLammps wrapper\n",
      "LAMMPS output is captured by PyLammps wrapper\n",
      "LAMMPS output is captured by PyLammps wrapper\n",
      "LAMMPS output is captured by PyLammps wrapper\n",
      "LAMMPS output is captured by PyLammps wrapper\n",
      "LAMMPS output is captured by PyLammps wrapper\n",
      "LAMMPS output is captured by PyLammps wrapper\n",
      "LAMMPS output is captured by PyLammps wrapper\n",
      "LAMMPS output is captured by PyLammps wrapper\n",
      "LAMMPS output is captured by PyLammps wrapper\n",
      "LAMMPS output is captured by PyLammps wrapper\n",
      "LAMMPS output is captured by PyLammps wrapper\n",
      "LAMMPS output is captured by PyLammps wrapper\n",
      "LAMMPS output is captured by PyLammps wrapper\n",
      "LAMMPS output is captured by PyLammps wrapper\n",
      "LAMMPS output is captured by PyLammps wrapper\n",
      "LAMMPS output is captured by PyLammps wrapper\n",
      "LAMMPS output is captured by PyLammps wrapper\n",
      "LAMMPS output is captured by PyLammps wrapper\n",
      "LAMMPS output is captured by PyLammps wrapper\n",
      "LAMMPS output is captured by PyLammps wrapper\n",
      "LAMMPS output is captured by PyLammps wrapper\n",
      "LAMMPS output is captured by PyLammps wrapper\n",
      "LAMMPS output is captured by PyLammps wrapper\n",
      "LAMMPS output is captured by PyLammps wrapper\n",
      "LAMMPS output is captured by PyLammps wrapper\n",
      "LAMMPS output is captured by PyLammps wrapper\n",
      "LAMMPS output is captured by PyLammps wrapper\n",
      "LAMMPS output is captured by PyLammps wrapper\n",
      "LAMMPS output is captured by PyLammps wrapper\n",
      "LAMMPS output is captured by PyLammps wrapper\n",
      "LAMMPS output is captured by PyLammps wrapper\n",
      "LAMMPS output is captured by PyLammps wrapper\n",
      "LAMMPS output is captured by PyLammps wrapper\n",
      "LAMMPS output is captured by PyLammps wrapper\n",
      "LAMMPS output is captured by PyLammps wrapper\n",
      "LAMMPS output is captured by PyLammps wrapper\n",
      "LAMMPS output is captured by PyLammps wrapper\n",
      "LAMMPS output is captured by PyLammps wrapper\n",
      "LAMMPS output is captured by PyLammps wrapper\n",
      "LAMMPS output is captured by PyLammps wrapper\n",
      "LAMMPS output is captured by PyLammps wrapper\n",
      "LAMMPS output is captured by PyLammps wrapper\n",
      "LAMMPS output is captured by PyLammps wrapper\n",
      "LAMMPS output is captured by PyLammps wrapper\n",
      "LAMMPS output is captured by PyLammps wrapper\n",
      "LAMMPS output is captured by PyLammps wrapper\n",
      "LAMMPS output is captured by PyLammps wrapper\n",
      "LAMMPS output is captured by PyLammps wrapper\n",
      "LAMMPS output is captured by PyLammps wrapper\n"
     ]
    },
    {
     "name": "stderr",
     "output_type": "stream",
     "text": [
      "100it [00:00, 277.08it/s]"
     ]
    },
    {
     "name": "stdout",
     "output_type": "stream",
     "text": [
      "LAMMPS output is captured by PyLammps wrapper\n",
      "LAMMPS output is captured by PyLammps wrapper\n",
      "LAMMPS output is captured by PyLammps wrapper\n",
      "LAMMPS output is captured by PyLammps wrapper\n",
      "LAMMPS output is captured by PyLammps wrapper\n",
      "LAMMPS output is captured by PyLammps wrapper\n",
      "LAMMPS output is captured by PyLammps wrapper\n",
      "LAMMPS output is captured by PyLammps wrapper\n",
      "LAMMPS output is captured by PyLammps wrapper\n",
      "LAMMPS output is captured by PyLammps wrapper\n",
      "LAMMPS output is captured by PyLammps wrapper\n",
      "LAMMPS output is captured by PyLammps wrapper\n",
      "LAMMPS output is captured by PyLammps wrapper\n",
      "LAMMPS output is captured by PyLammps wrapper\n",
      "LAMMPS output is captured by PyLammps wrapper\n",
      "LAMMPS output is captured by PyLammps wrapper\n",
      "LAMMPS output is captured by PyLammps wrapper\n",
      "LAMMPS output is captured by PyLammps wrapper\n",
      "LAMMPS output is captured by PyLammps wrapper\n",
      "LAMMPS output is captured by PyLammps wrapper\n",
      "LAMMPS output is captured by PyLammps wrapper\n",
      "LAMMPS output is captured by PyLammps wrapper\n",
      "LAMMPS output is captured by PyLammps wrapper\n",
      "LAMMPS output is captured by PyLammps wrapper\n",
      "LAMMPS output is captured by PyLammps wrapper\n",
      "LAMMPS output is captured by PyLammps wrapper\n",
      "LAMMPS output is captured by PyLammps wrapper\n",
      "LAMMPS output is captured by PyLammps wrapper\n",
      "LAMMPS output is captured by PyLammps wrapper\n",
      "LAMMPS output is captured by PyLammps wrapper\n",
      "LAMMPS output is captured by PyLammps wrapper\n",
      "LAMMPS output is captured by PyLammps wrapper\n",
      "LAMMPS output is captured by PyLammps wrapper\n",
      "LAMMPS output is captured by PyLammps wrapper\n",
      "LAMMPS output is captured by PyLammps wrapper\n",
      "LAMMPS output is captured by PyLammps wrapper\n",
      "LAMMPS output is captured by PyLammps wrapper\n",
      "LAMMPS output is captured by PyLammps wrapper\n",
      "LAMMPS output is captured by PyLammps wrapper\n",
      "LAMMPS output is captured by PyLammps wrapper\n",
      "LAMMPS output is captured by PyLammps wrapper\n",
      "LAMMPS output is captured by PyLammps wrapper\n",
      "LAMMPS output is captured by PyLammps wrapper\n",
      "LAMMPS output is captured by PyLammps wrapper\n",
      "LAMMPS output is captured by PyLammps wrapper\n"
     ]
    },
    {
     "name": "stderr",
     "output_type": "stream",
     "text": [
      "\n"
     ]
    }
   ],
   "source": [
    "volumes, energies, efit = routine_ev_curve(simdict)"
   ]
  },
  {
   "cell_type": "code",
   "execution_count": 62,
   "metadata": {},
   "outputs": [],
   "source": [
    "import matplotlib.pyplot as plt"
   ]
  },
  {
   "cell_type": "code",
   "execution_count": 84,
   "metadata": {},
   "outputs": [
    {
     "data": {
      "text/plain": [
       "[<matplotlib.lines.Line2D at 0x7f82c10d9df0>]"
      ]
     },
     "execution_count": 84,
     "metadata": {},
     "output_type": "execute_result"
    },
    {
     "data": {
      "image/png": "[encoded data removed]",
      "text/plain": [
       "<Figure size 432x288 with 1 Axes>"
      ]
     },
     "metadata": {
      "needs_background": "light"
     },
     "output_type": "display_data"
    }
   ],
   "source": [
    "plt.plot(volumes, energies, 'o')\n",
    "plt.plot(volumes, efit, '-')"
   ]
  },
  {
   "cell_type": "code",
   "execution_count": 28,
   "metadata": {},
   "outputs": [],
   "source": []
  },
  {
   "cell_type": "code",
   "execution_count": 31,
   "metadata": {},
   "outputs": [],
   "source": []
  },
  {
   "cell_type": "code",
   "execution_count": 34,
   "metadata": {},
   "outputs": [
    {
     "data": {
      "text/plain": [
       "6.753941330979168"
      ]
     },
     "execution_count": 34,
     "metadata": {},
     "output_type": "execute_result"
    }
   ],
   "source": [
    "L.eval('pe')/L.system.natoms"
   ]
  },
  {
   "cell_type": "code",
   "execution_count": 37,
   "metadata": {},
   "outputs": [
    {
     "data": {
      "text/plain": [
       "[\"WARNING: Using 'neigh_modify every 1 delay 0 check yes' setting during minimization (../min.cpp:168)\",\n",
       " 'Setting up cg style minimization ...',\n",
       " '  Unit style    : metal',\n",
       " '  Current step  : 3',\n",
       " 'Per MPI rank memory allocation (min/avg/max) = 4.311 | 4.311 | 4.311 Mbytes',\n",
       " 'Step Temp E_pair E_mol TotEng Press ',\n",
       " '       3            0    13832.072            0    13832.072    6302222.8 ',\n",
       " '     103            0    3746.2683            0    3746.2683      4878282 ',\n",
       " 'Loop time of 3.72343 on 1 procs for 100 steps with 2048 atoms',\n",
       " '',\n",
       " '100.0% CPU use with 1 MPI tasks x no OpenMP threads',\n",
       " '',\n",
       " 'Minimization stats:',\n",
       " '  Stopping criterion = max iterations',\n",
       " '  Energy initial, next-to-last, final = ',\n",
       " '         13832.0718458      3752.77181051      3746.26827075',\n",
       " '  Force two-norm initial, final = 2.60535e-12 24.6334',\n",
       " '  Force max component initial, final = 2.31988e-13 1.73836',\n",
       " '  Final line search alpha, max atom move = 0.0207959 0.0361508',\n",
       " '  Iterations, force evaluations = 100 118',\n",
       " '',\n",
       " 'MPI task timing breakdown:',\n",
       " 'Section |  min time  |  avg time  |  max time  |%varavg| %total',\n",
       " '---------------------------------------------------------------',\n",
       " 'Pair    | 3.6559     | 3.6559     | 3.6559     |   0.0 | 98.19',\n",
       " 'Neigh   | 0.058401   | 0.058401   | 0.058401   |   0.0 |  1.57',\n",
       " 'Comm    | 0.002395   | 0.002395   | 0.002395   |   0.0 |  0.06',\n",
       " 'Output  | 3.5306e-05 | 3.5306e-05 | 3.5306e-05 |   0.0 |  0.00',\n",
       " 'Modify  | 0          | 0          | 0          |   0.0 |  0.00',\n",
       " 'Other   |            | 0.006703   |            |       |  0.18',\n",
       " '',\n",
       " 'Nlocal:    2048 ave 2048 max 2048 min',\n",
       " 'Histogram: 1 0 0 0 0 0 0 0 0 0',\n",
       " 'Nghost:    2858 ave 2858 max 2858 min',\n",
       " 'Histogram: 1 0 0 0 0 0 0 0 0 0',\n",
       " 'Neighs:    0 ave 0 max 0 min',\n",
       " 'Histogram: 1 0 0 0 0 0 0 0 0 0',\n",
       " 'FullNghs:  77646 ave 77646 max 77646 min',\n",
       " 'Histogram: 1 0 0 0 0 0 0 0 0 0',\n",
       " '',\n",
       " 'Total # of neighbors = 77646',\n",
       " 'Ave neighs/atom = 37.9131',\n",
       " 'Neighbor list builds = 16',\n",
       " 'Dangerous builds = 0']"
      ]
     },
     "execution_count": 37,
     "metadata": {},
     "output_type": "execute_result"
    }
   ],
   "source": []
  },
  {
   "cell_type": "code",
   "execution_count": 38,
   "metadata": {},
   "outputs": [
    {
     "ename": "TypeError",
     "evalue": "'PyLammps' object is not subscriptable",
     "output_type": "error",
     "traceback": [
      "\u001b[0;31m---------------------------------------------------------------------------\u001b[0m",
      "\u001b[0;31mTypeError\u001b[0m                                 Traceback (most recent call last)",
      "\u001b[0;32m<ipython-input-38-a5cbd8d4c182>\u001b[0m in \u001b[0;36m<module>\u001b[0;34m\u001b[0m\n\u001b[0;32m----> 1\u001b[0;31m \u001b[0mL\u001b[0m\u001b[0;34m[\u001b[0m\u001b[0;34m\"Mi\"\u001b[0m\u001b[0;34m]\u001b[0m\u001b[0;34m\u001b[0m\u001b[0;34m\u001b[0m\u001b[0m\n\u001b[0m",
      "\u001b[0;31mTypeError\u001b[0m: 'PyLammps' object is not subscriptable"
     ]
    }
   ],
   "source": []
  }
 ],
 "metadata": {
  "kernelspec": {
   "display_name": "sw",
   "language": "python",
   "name": "sw"
  },
  "language_info": {
   "codemirror_mode": {
    "name": "ipython",
    "version": 3
   },
   "file_extension": ".py",
   "mimetype": "text/x-python",
   "name": "python",
   "nbconvert_exporter": "python",
   "pygments_lexer": "ipython3",
   "version": "3.8.1"
  }
 },
 "nbformat": 4,
 "nbformat_minor": 4
}
