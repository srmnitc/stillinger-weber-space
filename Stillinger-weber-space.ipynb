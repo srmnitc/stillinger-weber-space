{
 "cells": [
  {
   "cell_type": "code",
   "execution_count": 1,
   "metadata": {},
   "outputs": [],
   "source": [
    "import numpy as np\n",
    "import matplotlib.pyplot as plt\n",
    "from sw import Sw"
   ]
  },
  {
   "cell_type": "markdown",
   "metadata": {},
   "source": [
    "# Stillinger Weber space\n",
    "\n",
    "The idea is to the span the whole stillinger weber space and calculate different parameters wherever possible. This dataset will then be used to tune a potential later on."
   ]
  },
  {
   "cell_type": "markdown",
   "metadata": {},
   "source": [
    "The parameters that would be varied are $\\epsilon$, $\\sigma$, $a$ and $\\lambda$. The possible ranges for these parameters were identified based on existing literature.\n",
    "The range are `0.5-2.5`, `0.5-3.0`, `1.0-6.0` and `0-33` respectively. $\\lambda$ could further be increased."
   ]
  },
  {
   "cell_type": "markdown",
   "metadata": {},
   "source": [
    "A sample stillineger weber file"
   ]
  },
  {
   "cell_type": "markdown",
   "metadata": {},
   "source": [
    "```\n",
    "# format of a single entry (one or more lines):\n",
    "#   element 1, element 2, element 3, \n",
    "#   epsilon, sigma, a, lambda, gamma, costheta0, A, B, p, q, tol\n",
    "\n",
    "# Here are the original parameters in metal units, for Silicon from:\n",
    "#\n",
    "# Stillinger and Weber,  Phys. Rev. B, v. 31, p. 5262, (1985)\n",
    "#\n",
    "\n",
    "Si Si Si 2.1683  2.0951  1.80  21.0  1.20  -0.333333333333\n",
    "         7.049556277  0.6022245584  4.0  0.0 0.0\n",
    "```"
   ]
  },
  {
   "cell_type": "markdown",
   "metadata": {},
   "source": [
    "### Example usage of Sw class to write out file"
   ]
  },
  {
   "cell_type": "code",
   "execution_count": 3,
   "metadata": {},
   "outputs": [],
   "source": [
    "sw1 = Sw(\"pot1\")\n",
    "sw1.write(\"test.sw\")"
   ]
  },
  {
   "cell_type": "markdown",
   "metadata": {},
   "source": []
  }
 ],
 "metadata": {
  "kernelspec": {
   "display_name": "sw",
   "language": "python",
   "name": "sw"
  },
  "language_info": {
   "codemirror_mode": {
    "name": "ipython",
    "version": 3
   },
   "file_extension": ".py",
   "mimetype": "text/x-python",
   "name": "python",
   "nbconvert_exporter": "python",
   "pygments_lexer": "ipython3",
   "version": "3.8.1"
  }
 },
 "nbformat": 4,
 "nbformat_minor": 4
}
