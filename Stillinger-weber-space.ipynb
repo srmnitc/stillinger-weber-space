{
 "cells": [
  {
   "cell_type": "code",
   "execution_count": 2,
   "metadata": {},
   "outputs": [],
   "source": [
    "import numpy as np\n",
    "import matplotlib.pyplot as plt\n",
    "import pandas as pd"
   ]
  },
  {
   "cell_type": "markdown",
   "metadata": {},
   "source": [
    "# Stillinger Weber space\n",
    "\n",
    "The idea is to the span the whole stillinger weber space and calculate different parameters wherever possible. This dataset will then be used to tune a potential later on."
   ]
  },
  {
   "cell_type": "markdown",
   "metadata": {},
   "source": [
    "The parameters that would be varied are $\\epsilon$, $\\sigma$, $a$ and $\\lambda$. The possible ranges for these parameters were identified based on existing literature.\n",
    "The range are `0.5-2.5`, `0.5-3.0`, `1.0-6.0` and `0-33` respectively. $\\lambda$ could further be increased."
   ]
  },
  {
   "cell_type": "markdown",
   "metadata": {},
   "source": [
    "A sample stillineger weber file"
   ]
  },
  {
   "cell_type": "markdown",
   "metadata": {},
   "source": [
    "```\n",
    "# format of a single entry (one or more lines):\n",
    "#   element 1, element 2, element 3, \n",
    "#   epsilon, sigma, a, lambda, gamma, costheta0, A, B, p, q, tol\n",
    "\n",
    "# Here are the original parameters in metal units, for Silicon from:\n",
    "#\n",
    "# Stillinger and Weber,  Phys. Rev. B, v. 31, p. 5262, (1985)\n",
    "#\n",
    "\n",
    "Si Si Si 2.1683  2.0951  1.80  21.0  1.20  -0.333333333333\n",
    "         7.049556277  0.6022245584  4.0  0.0 0.0\n",
    "```"
   ]
  },
  {
   "cell_type": "markdown",
   "metadata": {},
   "source": [
    "## Analysing the space"
   ]
  },
  {
   "cell_type": "code",
   "execution_count": 140,
   "metadata": {},
   "outputs": [],
   "source": [
    "df = pd.read_hdf(\"data_set_5.hdf\")"
   ]
  },
  {
   "cell_type": "code",
   "execution_count": 141,
   "metadata": {},
   "outputs": [],
   "source": [
    "dfs = df.fillna(20000)"
   ]
  },
  {
   "cell_type": "code",
   "execution_count": 142,
   "metadata": {},
   "outputs": [],
   "source": [
    "efcc = np.array(dfs[\"Efcc\"])\n",
    "ebcc = np.array(dfs[\"Ebcc\"])\n",
    "edia = np.array(dfs[\"Edia\"])"
   ]
  },
  {
   "cell_type": "code",
   "execution_count": 143,
   "metadata": {},
   "outputs": [],
   "source": [
    "sigma = dfs['sigma']\n",
    "lmbda = dfs['lambda']"
   ]
  },
  {
   "cell_type": "markdown",
   "metadata": {},
   "source": [
    "Set E values to zero whenever required"
   ]
  },
  {
   "cell_type": "code",
   "execution_count": 113,
   "metadata": {},
   "outputs": [],
   "source": [
    "for i in range(len(efcc)):\n",
    "    if efcc[i] < -10 or efcc[i] > 10:\n",
    "        efcc[i] = -11\n",
    "    if ebcc[i] < -10 or ebcc[i] > 10:\n",
    "        ebcc[i] = -11\n",
    "    if edia[i] < -10 or edia[i] > 10:\n",
    "        edia[i] = -11"
   ]
  },
  {
   "cell_type": "markdown",
   "metadata": {},
   "source": [
    "Assign stable regions"
   ]
  },
  {
   "cell_type": "code",
   "execution_count": 146,
   "metadata": {},
   "outputs": [],
   "source": [
    "labels = []\n",
    "for i in range(len(efcc)):\n",
    "    minE = ebcc[i]\n",
    "    label = 0\n",
    "    if efcc[i] < minE:\n",
    "        minE = efcc[i]\n",
    "        label = 1\n",
    "    if edia[i] < minE:\n",
    "        minE = edia[i]\n",
    "        label = 2\n",
    "    #if minE != -11:\n",
    "    labels.append(label)\n",
    "    #else:\n",
    "    #    labels.append(5)"
   ]
  },
  {
   "cell_type": "code",
   "execution_count": 147,
   "metadata": {},
   "outputs": [],
   "source": [
    "for i in range(len(efcc)):\n",
    "    if labels[i] == 0:\n",
    "        efcc[i] = 20000\n",
    "        edia[i] = 20000\n",
    "    elif labels[i] == 1:\n",
    "        ebcc[i] = 20000\n",
    "        edia[i] = 20000\n",
    "    elif labels[i] == 2:\n",
    "        efcc[i] = 20000\n",
    "        ebcc[i] = 20000\n",
    "    else:\n",
    "        efcc[i] = 20000\n",
    "        ebcc[i] = 20000\n",
    "        edia[i] = 20000"
   ]
  },
  {
   "cell_type": "code",
   "execution_count": 162,
   "metadata": {},
   "outputs": [
    {
     "data": {
      "text/plain": [
       "20000.0"
      ]
     },
     "execution_count": 162,
     "metadata": {},
     "output_type": "execute_result"
    }
   ],
   "source": [
    "max(efcc)"
   ]
  },
  {
   "cell_type": "code",
   "execution_count": 150,
   "metadata": {},
   "outputs": [],
   "source": [
    "sigma = np.array(sigma).reshape((50,50))\n",
    "lmbda = np.array(lmbda).reshape((50,50))"
   ]
  },
  {
   "cell_type": "code",
   "execution_count": 151,
   "metadata": {},
   "outputs": [],
   "source": [
    "edfcc = np.array(efcc).reshape((50,50))\n",
    "edbcc = np.array(ebcc).reshape((50,50))\n",
    "eddia = np.array(edia).reshape((50,50))"
   ]
  },
  {
   "cell_type": "code",
   "execution_count": 152,
   "metadata": {},
   "outputs": [],
   "source": [
    "labelss = np.array(labels).reshape((50,50))"
   ]
  },
  {
   "cell_type": "code",
   "execution_count": null,
   "metadata": {},
   "outputs": [],
   "source": []
  },
  {
   "cell_type": "code",
   "execution_count": 167,
   "metadata": {},
   "outputs": [
    {
     "data": {
      "text/plain": [
       "<matplotlib.contour.QuadContourSet at 0x7f5fa3a697b8>"
      ]
     },
     "execution_count": 167,
     "metadata": {},
     "output_type": "execute_result"
    },
    {
     "data": {
      "image/png": "[encoded data removed]",
      "text/plain": [
       "<Figure size 432x288 with 1 Axes>"
      ]
     },
     "metadata": {
      "needs_background": "light"
     },
     "output_type": "display_data"
    }
   ],
   "source": [
    "plt.contourf(sigma, lmbda, edfcc, levels=np.arange(-10, 10, 1), cmap='Blues_r')\n",
    "plt.contourf(sigma, lmbda, eddia, levels=np.arange(-10, 10, 1), cmap='Reds')\n",
    "plt.contourf(sigma, lmbda, edbcc, levels=np.arange(-10, 10, 1), cmap='Greens_r')\n",
    "#plt.contourf(sigma, lmbda, edia)"
   ]
  }
 ],
 "metadata": {
  "kernelspec": {
   "display_name": "ml",
   "language": "python",
   "name": "ml"
  },
  "language_info": {
   "codemirror_mode": {
    "name": "ipython",
    "version": 3
   },
   "file_extension": ".py",
   "mimetype": "text/x-python",
   "name": "python",
   "nbconvert_exporter": "python",
   "pygments_lexer": "ipython3",
   "version": "3.7.3"
  }
 },
 "nbformat": 4,
 "nbformat_minor": 4
}
