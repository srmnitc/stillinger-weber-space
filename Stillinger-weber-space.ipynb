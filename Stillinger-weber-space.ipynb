{
 "cells": [
  {
   "cell_type": "code",
   "execution_count": 2,
   "metadata": {},
   "outputs": [],
   "source": [
    "import numpy as np\n",
    "import matplotlib.pyplot as plt\n",
    "import pandas as pd"
   ]
  },
  {
   "cell_type": "code",
   "execution_count": 25,
   "metadata": {},
   "outputs": [],
   "source": [
    "from mpl_toolkits.axes_grid1.inset_locator import inset_axes\n",
    "import matplotlib.pyplot as plt\n",
    "import matplotlib.colors as mcolors\n",
    "import matplotlib.colors as mcolors\n",
    "import matplotlib.gridspec as gridspec\n",
    "from matplotlib.ticker import (MultipleLocator, FormatStrFormatter, AutoMinorLocator)\n",
    "from matplotlib.patches import Patch"
   ]
  },
  {
   "cell_type": "code",
   "execution_count": 271,
   "metadata": {},
   "outputs": [],
   "source": [
    "fccmap = mcolors.LinearSegmentedColormap.from_list(\"\", [\"#FFA726\",\"#FFA726\"])\n",
    "diamap = mcolors.LinearSegmentedColormap.from_list(\"\", [\"#EF5350\",\"#EF5350\"])\n",
    "bccmap = mcolors.LinearSegmentedColormap.from_list(\"\", [\"#8BC34A\",\"#8BC34A\"])"
   ]
  },
  {
   "cell_type": "markdown",
   "metadata": {},
   "source": [
    "# Stillinger Weber space\n",
    "\n",
    "The idea is to the span the whole stillinger weber space and calculate different parameters wherever possible. This dataset will then be used to tune a potential later on."
   ]
  },
  {
   "cell_type": "markdown",
   "metadata": {},
   "source": [
    "The parameters that would be varied are $\\epsilon$, $\\sigma$, $a$ and $\\lambda$. The possible ranges for these parameters were identified based on existing literature.\n",
    "The range are `0.5-2.5`, `0.5-3.0`, `1.0-6.0` and `0-33` respectively. $\\lambda$ could further be increased."
   ]
  },
  {
   "cell_type": "markdown",
   "metadata": {},
   "source": [
    "A sample stillineger weber file"
   ]
  },
  {
   "cell_type": "markdown",
   "metadata": {},
   "source": [
    "```\n",
    "# format of a single entry (one or more lines):\n",
    "#   element 1, element 2, element 3, \n",
    "#   epsilon, sigma, a, lambda, gamma, costheta0, A, B, p, q, tol\n",
    "\n",
    "# Here are the original parameters in metal units, for Silicon from:\n",
    "#\n",
    "# Stillinger and Weber,  Phys. Rev. B, v. 31, p. 5262, (1985)\n",
    "#\n",
    "\n",
    "Si Si Si 2.1683  2.0951  1.80  21.0  1.20  -0.333333333333\n",
    "         7.049556277  0.6022245584  4.0  0.0 0.0\n",
    "```"
   ]
  },
  {
   "cell_type": "markdown",
   "metadata": {},
   "source": [
    "## Analysing the space"
   ]
  },
  {
   "cell_type": "code",
   "execution_count": 246,
   "metadata": {},
   "outputs": [],
   "source": [
    "df = pd.read_hdf(\"data_set_5.hdf\")"
   ]
  },
  {
   "cell_type": "code",
   "execution_count": 247,
   "metadata": {},
   "outputs": [
    {
     "data": {
      "text/html": [
       "<div>\n",
       "<style scoped>\n",
       "    .dataframe tbody tr th:only-of-type {\n",
       "        vertical-align: middle;\n",
       "    }\n",
       "\n",
       "    .dataframe tbody tr th {\n",
       "        vertical-align: top;\n",
       "    }\n",
       "\n",
       "    .dataframe thead th {\n",
       "        text-align: right;\n",
       "    }\n",
       "</style>\n",
       "<table border=\"1\" class=\"dataframe\">\n",
       "  <thead>\n",
       "    <tr style=\"text-align: right;\">\n",
       "      <th></th>\n",
       "      <th>epsilon</th>\n",
       "      <th>sigma</th>\n",
       "      <th>a</th>\n",
       "      <th>lambda</th>\n",
       "      <th>Ebcc</th>\n",
       "      <th>Vbcc</th>\n",
       "      <th>Efcc</th>\n",
       "      <th>Vfcc</th>\n",
       "      <th>Edia</th>\n",
       "      <th>Vdia</th>\n",
       "    </tr>\n",
       "  </thead>\n",
       "  <tbody>\n",
       "    <tr>\n",
       "      <th>0</th>\n",
       "      <td>2.5</td>\n",
       "      <td>1.75</td>\n",
       "      <td>1.8</td>\n",
       "      <td>0.000000</td>\n",
       "      <td>-0.00045</td>\n",
       "      <td>20.800785</td>\n",
       "      <td>-10.915537</td>\n",
       "      <td>10.400392</td>\n",
       "      <td>-4.730505</td>\n",
       "      <td>15.160922</td>\n",
       "    </tr>\n",
       "    <tr>\n",
       "      <th>1</th>\n",
       "      <td>2.5</td>\n",
       "      <td>1.75</td>\n",
       "      <td>1.8</td>\n",
       "      <td>0.673469</td>\n",
       "      <td>-0.00045</td>\n",
       "      <td>20.800785</td>\n",
       "      <td>-11.995949</td>\n",
       "      <td>10.400392</td>\n",
       "      <td>-4.730505</td>\n",
       "      <td>15.160922</td>\n",
       "    </tr>\n",
       "    <tr>\n",
       "      <th>2</th>\n",
       "      <td>2.5</td>\n",
       "      <td>1.75</td>\n",
       "      <td>1.8</td>\n",
       "      <td>1.346939</td>\n",
       "      <td>-0.00045</td>\n",
       "      <td>20.800785</td>\n",
       "      <td>-14.063466</td>\n",
       "      <td>10.400392</td>\n",
       "      <td>-4.730505</td>\n",
       "      <td>15.160922</td>\n",
       "    </tr>\n",
       "    <tr>\n",
       "      <th>3</th>\n",
       "      <td>2.5</td>\n",
       "      <td>1.75</td>\n",
       "      <td>1.8</td>\n",
       "      <td>2.020408</td>\n",
       "      <td>-0.00045</td>\n",
       "      <td>20.800785</td>\n",
       "      <td>-18.867367</td>\n",
       "      <td>10.400392</td>\n",
       "      <td>-4.730505</td>\n",
       "      <td>15.160922</td>\n",
       "    </tr>\n",
       "    <tr>\n",
       "      <th>4</th>\n",
       "      <td>2.5</td>\n",
       "      <td>1.75</td>\n",
       "      <td>1.8</td>\n",
       "      <td>2.693878</td>\n",
       "      <td>-0.00045</td>\n",
       "      <td>20.800785</td>\n",
       "      <td>-36.137804</td>\n",
       "      <td>10.400392</td>\n",
       "      <td>-4.730505</td>\n",
       "      <td>15.160922</td>\n",
       "    </tr>\n",
       "  </tbody>\n",
       "</table>\n",
       "</div>"
      ],
      "text/plain": [
       "   epsilon  sigma    a    lambda     Ebcc       Vbcc       Efcc       Vfcc  \\\n",
       "0      2.5   1.75  1.8  0.000000 -0.00045  20.800785 -10.915537  10.400392   \n",
       "1      2.5   1.75  1.8  0.673469 -0.00045  20.800785 -11.995949  10.400392   \n",
       "2      2.5   1.75  1.8  1.346939 -0.00045  20.800785 -14.063466  10.400392   \n",
       "3      2.5   1.75  1.8  2.020408 -0.00045  20.800785 -18.867367  10.400392   \n",
       "4      2.5   1.75  1.8  2.693878 -0.00045  20.800785 -36.137804  10.400392   \n",
       "\n",
       "       Edia       Vdia  \n",
       "0 -4.730505  15.160922  \n",
       "1 -4.730505  15.160922  \n",
       "2 -4.730505  15.160922  \n",
       "3 -4.730505  15.160922  \n",
       "4 -4.730505  15.160922  "
      ]
     },
     "execution_count": 247,
     "metadata": {},
     "output_type": "execute_result"
    }
   ],
   "source": [
    "df.head()"
   ]
  },
  {
   "cell_type": "markdown",
   "metadata": {},
   "source": [
    "bcc range"
   ]
  },
  {
   "cell_type": "code",
   "execution_count": 248,
   "metadata": {},
   "outputs": [],
   "source": [
    "bmax = (np.nanmax(df.iloc[:, 4].values))\n",
    "bmin = (np.nanmin(df.iloc[:, 4].values))"
   ]
  },
  {
   "cell_type": "markdown",
   "metadata": {},
   "source": [
    "fcc range"
   ]
  },
  {
   "cell_type": "code",
   "execution_count": 249,
   "metadata": {},
   "outputs": [],
   "source": [
    "fmax = (np.nanmax(df.iloc[:, 6].values))\n",
    "fmin = (np.nanmin(df.iloc[:, 6].values))"
   ]
  },
  {
   "cell_type": "markdown",
   "metadata": {},
   "source": [
    "dia range"
   ]
  },
  {
   "cell_type": "code",
   "execution_count": 250,
   "metadata": {},
   "outputs": [],
   "source": [
    "dmax = (np.nanmax(df.iloc[:,8].values))\n",
    "dmin = (np.nanmin(df.iloc[:, 8].values))"
   ]
  },
  {
   "cell_type": "markdown",
   "metadata": {},
   "source": [
    "Fill NaNs with maximum value"
   ]
  },
  {
   "cell_type": "code",
   "execution_count": 251,
   "metadata": {},
   "outputs": [],
   "source": [
    "maxmax = max([bmax, fmax, dmax])"
   ]
  },
  {
   "cell_type": "code",
   "execution_count": 252,
   "metadata": {},
   "outputs": [
    {
     "data": {
      "text/plain": [
       "75.5938162165283"
      ]
     },
     "execution_count": 252,
     "metadata": {},
     "output_type": "execute_result"
    }
   ],
   "source": [
    "maxmax"
   ]
  },
  {
   "cell_type": "code",
   "execution_count": 253,
   "metadata": {},
   "outputs": [],
   "source": [
    "dfs = df.fillna(maxmax)"
   ]
  },
  {
   "cell_type": "code",
   "execution_count": 254,
   "metadata": {},
   "outputs": [],
   "source": [
    "efcc = np.array(dfs[\"Efcc\"])\n",
    "ebcc = np.array(dfs[\"Ebcc\"])\n",
    "edia = np.array(dfs[\"Edia\"])"
   ]
  },
  {
   "cell_type": "code",
   "execution_count": 255,
   "metadata": {},
   "outputs": [],
   "source": [
    "sigma = dfs['sigma']\n",
    "lmbda = dfs['lambda']"
   ]
  },
  {
   "cell_type": "code",
   "execution_count": 256,
   "metadata": {},
   "outputs": [],
   "source": [
    "for i in range(len(efcc)):\n",
    "    if efcc[i]/2.5 < -4:\n",
    "        efcc[i] = maxmax\n",
    "    if edia[i]/2.5 < -4:\n",
    "        edia[i] = maxmax\n",
    "    if ebcc[i]/2.5 < -4:\n",
    "        ebcc[i] = maxmax"
   ]
  },
  {
   "cell_type": "markdown",
   "metadata": {},
   "source": [
    "Assign stable regions"
   ]
  },
  {
   "cell_type": "code",
   "execution_count": 257,
   "metadata": {},
   "outputs": [],
   "source": [
    "labels = []\n",
    "for i in range(len(efcc)):\n",
    "    minE = ebcc[i]\n",
    "    label = 0\n",
    "    if efcc[i] < minE:\n",
    "        minE = efcc[i]\n",
    "        label = 1\n",
    "    if edia[i] < minE:\n",
    "        minE = edia[i]\n",
    "        label = 2\n",
    "    #if minE != -11:\n",
    "    labels.append(label)\n",
    "    #else:\n",
    "    #    labels.append(5)"
   ]
  },
  {
   "cell_type": "markdown",
   "metadata": {},
   "source": [
    "Now remove the other values to max"
   ]
  },
  {
   "cell_type": "code",
   "execution_count": 258,
   "metadata": {},
   "outputs": [],
   "source": [
    "\n",
    "for i in range(len(efcc)):\n",
    "    if labels[i] == 0:\n",
    "        efcc[i] = maxmax\n",
    "        edia[i] = maxmax\n",
    "    elif labels[i] == 1:\n",
    "        ebcc[i] = maxmax\n",
    "        edia[i] = maxmax\n",
    "    elif labels[i] == 2:\n",
    "        efcc[i] = maxmax\n",
    "        ebcc[i] = maxmax"
   ]
  },
  {
   "cell_type": "code",
   "execution_count": 259,
   "metadata": {},
   "outputs": [],
   "source": [
    "sigma = np.array(sigma).reshape((50,50))\n",
    "lmbda = np.array(lmbda).reshape((50,50))"
   ]
  },
  {
   "cell_type": "code",
   "execution_count": 260,
   "metadata": {},
   "outputs": [],
   "source": [
    "edfcc = np.array(efcc).reshape((50,50))\n",
    "edbcc = np.array(ebcc).reshape((50,50))\n",
    "eddia = np.array(edia).reshape((50,50))"
   ]
  },
  {
   "cell_type": "code",
   "execution_count": 261,
   "metadata": {},
   "outputs": [],
   "source": [
    "labelss = np.array(labels).reshape((50,50))"
   ]
  },
  {
   "cell_type": "code",
   "execution_count": 291,
   "metadata": {},
   "outputs": [
    {
     "data": {
      "text/plain": [
       "Text(0.2, 0.8, 'dia')"
      ]
     },
     "execution_count": 291,
     "metadata": {},
     "output_type": "execute_result"
    },
    {
     "data": {
      "image/png": "[encoded data removed]",
      "text/plain": [
       "<Figure size 360x360 with 1 Axes>"
      ]
     },
     "metadata": {
      "needs_background": "light"
     },
     "output_type": "display_data"
    }
   ],
   "source": [
    "fontdict = {'fontsize':20}\n",
    "plt.rc('axes', linewidth=2)\n",
    "fig = plt.figure(figsize=((5, 5)))\n",
    "ax = fig.add_subplot(111)\n",
    "\n",
    "ax.set_xticks(np.arange(1.7,2.5,0.1))\n",
    "ax.set_xticklabels(np.around(np.arange(1.7,2.5,0.1), decimals=1), fontdict=fontdict)\n",
    "ax.set_yticks(np.arange(0,34,5))\n",
    "ax.set_yticklabels(np.around(np.arange(0,34,5), decimals=0), fontdict=fontdict)\n",
    "ax.set_xlabel(\"$\\sigma$\", fontdict=fontdict)\n",
    "ax.set_ylabel(\"$\\lambda$\", fontdict=fontdict)\n",
    "\n",
    "ax.contourf(sigma, lmbda, edfcc, levels=np.arange(fmin-4, 25, 5), cmap=fccmap)\n",
    "ax.contourf(sigma, lmbda, eddia, levels=np.arange(dmin-4, 25, 5), cmap=diamap)\n",
    "ax.contourf(sigma, lmbda, edbcc, levels=np.arange(bmin-4, 25, 5), cmap=bccmap)\n",
    "ax.scatter([2.0951],[32.5], c=\"#80DEEA\")\n",
    "ax.plot([2.0951, 2.0951],[15, 17.9], c=\"#26A69A\", linewidth=3)\n",
    "ax.plot([2.0951, 2.0951],[19, 24], c=\"#388E3C\", linewidth=3)\n",
    "ax.scatter([2.0951],[21.0], c=\"#80DEEA\")\n",
    "\n",
    "plt.text(2.12, 32, 'pot A', horizontalalignment='left', verticalalignment='center', fontsize=10)\n",
    "plt.text(2.08, 16, 'bcc - PRB 90, 2014', horizontalalignment='right', verticalalignment='center', fontsize=10)\n",
    "plt.text(2.08, 20, 'dia - PRB 90, 2014', horizontalalignment='right', verticalalignment='center', fontsize=10)\n",
    "plt.text(2.12, 21, 'Si', horizontalalignment='left', verticalalignment='center', fontsize=10)\n",
    "\n",
    "plt.text(0.8, 0.8, 'bcc', horizontalalignment='center', verticalalignment='center', fontsize=20, transform=ax.transAxes)\n",
    "plt.text(0.2, 0.2, 'fcc', horizontalalignment='center', verticalalignment='center', fontsize=20, transform=ax.transAxes)\n",
    "plt.text(0.2, 0.8, 'dia', horizontalalignment='center', verticalalignment='center', fontsize=20, transform=ax.transAxes)\n",
    "#ax.legend(fontsize=10)\n",
    "#plt.savefig('/home/users/menonsqr/ph_dia_hysterisis.png', dpi=450, bbox_inches='tight')"
   ]
  },
  {
   "cell_type": "markdown",
   "metadata": {},
   "source": [
    "### $\\epsilon$ = 2.5 and $a$ = 1.8"
   ]
  },
  {
   "cell_type": "markdown",
   "metadata": {},
   "source": [
    "pot a - 2.16, 2.09, 1.8, 32.5 \n",
    "pot b - 2.16, 2.37, 1.53, 32.5"
   ]
  },
  {
   "cell_type": "code",
   "execution_count": 108,
   "metadata": {},
   "outputs": [
    {
     "data": {
      "text/plain": [
       "2.0145"
      ]
     },
     "execution_count": 108,
     "metadata": {},
     "output_type": "execute_result"
    }
   ],
   "source": [
    "2.37*1.53/1.8"
   ]
  }
 ],
 "metadata": {
  "kernelspec": {
   "display_name": "sw",
   "language": "python",
   "name": "sw"
  },
  "language_info": {
   "codemirror_mode": {
    "name": "ipython",
    "version": 3
   },
   "file_extension": ".py",
   "mimetype": "text/x-python",
   "name": "python",
   "nbconvert_exporter": "python",
   "pygments_lexer": "ipython3",
   "version": "3.8.1"
  }
 },
 "nbformat": 4,
 "nbformat_minor": 4
}
