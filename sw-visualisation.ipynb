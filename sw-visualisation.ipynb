{
 "cells": [
  {
   "cell_type": "code",
   "execution_count": 1,
   "metadata": {},
   "outputs": [],
   "source": [
    "import numpy as np\n",
    "from stillingerweber.sw import Sw\n",
    "import matplotlib as mpl\n",
    "from mpl_toolkits.mplot3d import Axes3D\n",
    "import matplotlib.pyplot as plt\n",
    "from matplotlib.collections import PolyCollection\n",
    "from matplotlib import colors as mcolors\n",
    "from matplotlib.patches import Polygon\n",
    "import ipywidgets as widgets\n",
    "import random\n",
    "from ipywidgets import TwoByTwoLayout"
   ]
  },
  {
   "cell_type": "code",
   "execution_count": 7,
   "metadata": {},
   "outputs": [],
   "source": [
    "def create_slider(mn, mx, step, val, name):\n",
    "    w1 = widgets.FloatSlider(\n",
    "        value=val,\n",
    "        min=mn,\n",
    "        max=mx,\n",
    "        step=step,\n",
    "        description=name,\n",
    "        disabled=False,\n",
    "        continuous_update=False,\n",
    "        orientation='horizontal',\n",
    "        readout=True,\n",
    "        readout_format='.1f',\n",
    "    )\n",
    "    return w1"
   ]
  },
  {
   "cell_type": "code",
   "execution_count": 46,
   "metadata": {},
   "outputs": [],
   "source": [
    "def run_sw(epsilon=None, sigma=None, a=None, lmbda=None, \n",
    "          gamma=None, costheta0=-0.333333, A=None, B=None, \n",
    "          p=None, q=None, costheta=None):\n",
    "    \n",
    "    sw = Sw(\"tag\", epsilon=epsilon, sigma=sigma, a=a, lmbda=lmbda,\n",
    "           gamma=gamma, costheta0=costheta0, A=A, B=B,\n",
    "           p=p, q=q)\n",
    "    \n",
    "    rij = np.linspace(1.0, sigma*a, 1000)\n",
    "    #rik = np.linspace(1.0, sigma*a, 1000)\n",
    "    phi2 = sw.phi2(rij)\n",
    "    \n",
    "    #X, Y = np.meshgrid(rij, rik)\n",
    "    #phi3 = sw.phi3(X, Y, costheta)\n",
    "    \n",
    "    make_plot(rij, rij, phi2, phi2)   "
   ]
  },
  {
   "cell_type": "code",
   "execution_count": 56,
   "metadata": {},
   "outputs": [],
   "source": [
    "def make_plot(rij, rik, phi2, phi3):\n",
    "    fig = plt.figure(figsize=(10, 5))\n",
    "    ax = fig.add_subplot(1,1,1)\n",
    "    #ax1 = fig.add_subplot(1,2,2)\n",
    "    ax.plot(rij, phi2, color=\"#AD1457\", linewidth=3)\n",
    "    ax.axhline(0, c=\"#FB8C00\")\n",
    "    #ax.set_ylim(-10, 100)\n",
    "    #ax.set_xlim(0, 7)\n",
    "    ax.set_xlabel(\"Distance\")\n",
    "    ax.set_ylabel(\"Energy\")\n",
    "    ax.set_title(\"$\\phi_2$\")\n",
    "    \n",
    "    #X, Y = np.meshgrid(rij, rik)\n",
    "    #ax1.contour(X, Y, phi3, 20, cmap='magma')\n",
    "    #ax1.set_xlabel(\"$r_{ij}$\")\n",
    "    #ax1.set_ylabel(\"$r_{ik}$\")\n",
    "    #ax1.set_ylim(0, 8)\n",
    "    #ax1.set_xlim(0, 8)\n",
    "    #ax1.set_title(\"$\\phi_3$\")\n",
    "    #plt.colorbar();\n"
   ]
  },
  {
   "cell_type": "code",
   "execution_count": 59,
   "metadata": {},
   "outputs": [],
   "source": [
    "def create_sw_widgets():\n",
    "    params = ['epsilon', 'sigma', 'a', 'lambda', 'gamma', 'A', 'B', 'p', 'q', 'costheta']\n",
    "    valmin = [0.1,   0.1,    0.1, 0,    0.1,  0.1,  0.1,  0,  0, -1.0]\n",
    "    valmax = [5.0,   5.0,    3.0, 50,   3.0,  15,   7,    12, 12, 1.0]\n",
    "    valitr = [0.1,   0.1,    0.1, 1,    0.1,  0.1,  0.1,  1,  1,  0.01]\n",
    "    valdef = [2.183, 2.0951, 1.8, 21.0, 1.20, 7.05, 0.60, 4,  0,  -0.3333]\n",
    "    ws = []\n",
    "    for c, param in enumerate(params):\n",
    "        w = create_slider(valmin[c], valmax[c], valitr[c], valdef[c], param)\n",
    "        ws.append(w)\n",
    "    \n",
    "    out = widgets.interactive_output(run_sw, {'epsilon': ws[0], 'sigma': ws[1], 'a': ws[2], \n",
    "                    'lmbda': ws[3], 'gamma': ws[4], 'A': ws[5],\n",
    "                    'B': ws[6], 'p': ws[7], 'q': ws[8], 'costheta':ws[9]})\n",
    "    \n",
    "    ui = widgets.GridBox(ws, layout=widgets.Layout(grid_template_columns=\"repeat(2, 500px)\"))\n",
    "    display(ui, out)"
   ]
  },
  {
   "cell_type": "code",
   "execution_count": 60,
   "metadata": {},
   "outputs": [
    {
     "data": {
      "application/vnd.jupyter.widget-view+json": {
       "model_id": "3aa9a93818d041a2b413d3e966591903",
       "version_major": 2,
       "version_minor": 0
      },
      "text/plain": [
       "GridBox(children=(FloatSlider(value=2.183, continuous_update=False, description='epsilon', max=5.0, min=0.1, r…"
      ]
     },
     "metadata": {},
     "output_type": "display_data"
    },
    {
     "data": {
      "application/vnd.jupyter.widget-view+json": {
       "model_id": "2cfbd47580344b12896e34c59fd1b069",
       "version_major": 2,
       "version_minor": 0
      },
      "text/plain": [
       "Output()"
      ]
     },
     "metadata": {},
     "output_type": "display_data"
    }
   ],
   "source": [
    "create_sw_widgets()"
   ]
  }
 ],
 "metadata": {
  "kernelspec": {
   "display_name": "base",
   "language": "python",
   "name": "base"
  },
  "language_info": {
   "codemirror_mode": {
    "name": "ipython",
    "version": 3
   },
   "file_extension": ".py",
   "mimetype": "text/x-python",
   "name": "python",
   "nbconvert_exporter": "python",
   "pygments_lexer": "ipython3",
   "version": "3.7.4"
  }
 },
 "nbformat": 4,
 "nbformat_minor": 4
}
